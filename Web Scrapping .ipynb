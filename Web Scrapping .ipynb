{
 "cells": [
  {
   "cell_type": "code",
   "execution_count": 1,
   "id": "9b675297",
   "metadata": {},
   "outputs": [],
   "source": [
    "#pip install bs4"
   ]
  },
  {
   "cell_type": "code",
   "execution_count": 3,
   "id": "4938517d",
   "metadata": {},
   "outputs": [],
   "source": [
    "import bs4\n",
    "import requests"
   ]
  },
  {
   "cell_type": "code",
   "execution_count": 4,
   "id": "04d9334c",
   "metadata": {},
   "outputs": [
    {
     "name": "stdout",
     "output_type": "stream",
     "text": [
      "‘Show proof of 12 lakh jobs Mr CM’ – BJP’s Kapil Mishra hits out at Delhi CM Kejriwal after RTI reveals way fewer jobs \n",
      " 27 March, 2022 \n"
     ]
    }
   ],
   "source": [
    "url = \"https://www.opindia.com/2022/03/delhi-government-jobs-rti-kejriwal-kapil-mishra/\"\n",
    "data = requests.get(url)\n",
    "soup = bs4.BeautifulSoup(data.content)\n",
    "for i in soup.find_all(\"h1\"):\n",
    "    hl = i.text\n",
    "\n",
    "date = soup.find_all(\"time\")[0].text\n",
    "print(hl,\"\\n\",date)"
   ]
  },
  {
   "cell_type": "code",
   "execution_count": 5,
   "id": "279c5172",
   "metadata": {},
   "outputs": [],
   "source": [
    "def opindia(ur):\n",
    "    url = ur\n",
    "    data = requests.get(url)\n",
    "    soup = bs4.BeautifulSoup(data.content)\n",
    "    for i in soup.find_all(\"h1\"):\n",
    "        hl = i.text\n",
    "\n",
    "    date = soup.find_all(\"time\")[0].text\n",
    "    return hl,date"
   ]
  },
  {
   "cell_type": "code",
   "execution_count": 6,
   "id": "561cef5e",
   "metadata": {},
   "outputs": [
    {
     "data": {
      "text/plain": [
       "('‘Show proof of 12 lakh jobs Mr CM’ – BJP’s Kapil Mishra hits out at Delhi CM Kejriwal after RTI reveals way fewer jobs',\n",
       " '27 March, 2022 ')"
      ]
     },
     "execution_count": 6,
     "metadata": {},
     "output_type": "execute_result"
    }
   ],
   "source": [
    "opindia(\"https://www.opindia.com/2022/03/delhi-government-jobs-rti-kejriwal-kapil-mishra/\")"
   ]
  },
  {
   "cell_type": "code",
   "execution_count": 7,
   "id": "4cd77cb9",
   "metadata": {},
   "outputs": [
    {
     "data": {
      "text/plain": [
       "('Karnataka: Civic authorities demolish illegal hotel building belonging to SDPI leader',\n",
       " '27 March, 2022 ')"
      ]
     },
     "execution_count": 7,
     "metadata": {},
     "output_type": "execute_result"
    }
   ],
   "source": [
    "opindia(\"https://www.opindia.com/2022/03/karnataka-civic-body-demolish-sdpi-leader-hotel-illegal-building-udupi/\")"
   ]
  },
  {
   "cell_type": "code",
   "execution_count": 8,
   "id": "e9b79294",
   "metadata": {},
   "outputs": [
    {
     "data": {
      "text/plain": [
       "('Sympathisers of disgraced cop Sanjiv Bhatt claim that he was a Kashmiri Pandit: Here is what we know',\n",
       " '24 March, 2022 ')"
      ]
     },
     "execution_count": 8,
     "metadata": {},
     "output_type": "execute_result"
    }
   ],
   "source": [
    "opindia(\"https://www.opindia.com/2022/03/sympathisers-of-disgraced-cop-sanjiv-bhatt-claim-he-is-kashmiri-pandit/\")"
   ]
  },
  {
   "cell_type": "code",
   "execution_count": 21,
   "id": "5030b63d",
   "metadata": {},
   "outputs": [],
   "source": [
    "url = \"https://timesofindia.indiatimes.com/world/us/us-says-not-seeking-regime-change-in-russia-walks-back-bidens-hint-on-deposing-putin/articleshow/90471284.cms\"\n",
    "data = requests.get(url)\n",
    "soup = bs4.BeautifulSoup(data.content)\n",
    "for i in soup.find_all(\"span\"):\n",
    "    span = i.text"
   ]
  },
  {
   "cell_type": "code",
   "execution_count": 22,
   "id": "f6e619e0",
   "metadata": {},
   "outputs": [
    {
     "name": "stdout",
     "output_type": "stream",
     "text": [
      "MS Dhoni \n",
      " []\n"
     ]
    }
   ],
   "source": [
    "date = soup.find_all(\"time\")\n",
    "print(span,\"\\n\",date)"
   ]
  },
  {
   "cell_type": "code",
   "execution_count": null,
   "id": "30455546",
   "metadata": {},
   "outputs": [],
   "source": []
  }
 ],
 "metadata": {
  "kernelspec": {
   "display_name": "Python 3 (ipykernel)",
   "language": "python",
   "name": "python3"
  },
  "language_info": {
   "codemirror_mode": {
    "name": "ipython",
    "version": 3
   },
   "file_extension": ".py",
   "mimetype": "text/x-python",
   "name": "python",
   "nbconvert_exporter": "python",
   "pygments_lexer": "ipython3",
   "version": "3.7.11"
  }
 },
 "nbformat": 4,
 "nbformat_minor": 5
}
